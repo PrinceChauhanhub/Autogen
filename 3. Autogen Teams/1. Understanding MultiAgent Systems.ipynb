{
 "cells": [
  {
   "cell_type": "markdown",
   "id": "4260f105",
   "metadata": {},
   "source": [
    "# Multi Agent Systems\n",
    "\n",
    "A team of group of agents that work together to achieve a common goal."
   ]
  },
  {
   "cell_type": "code",
   "execution_count": 10,
   "id": "bfae6b39",
   "metadata": {},
   "outputs": [
    {
     "name": "stderr",
     "output_type": "stream",
     "text": [
      "x:\\Autogen\\autogen-env\\Lib\\site-packages\\autogen_ext\\models\\openai\\_openai_client.py:453: UserWarning: Missing required field 'structured_output' in ModelInfo. This field will be required in a future version of AutoGen.\n",
      "  validate_model_info(self._model_info)\n"
     ]
    }
   ],
   "source": [
    "import asyncio\n",
    "from autogen_ext.models.openai import OpenAIChatCompletionClient\n",
    "from autogen_agentchat.agents import AssistantAgent\n",
    "from dotenv import load_dotenv\n",
    "import os\n",
    "\n",
    "load_dotenv()\n",
    "api_key = os.getenv(\"OPENROUTER_API_KEY\")\n",
    "\n",
    "model_client = OpenAIChatCompletionClient(\n",
    "    base_url=\"https://openrouter.ai/api/v1\",\n",
    "    model = \"openai/gpt-oss-20b:free\",\n",
    "    api_key=api_key,\n",
    "    model_info={\n",
    "        \"family\":\"openai\",\n",
    "        \"vision\" : True,\n",
    "        \"function_calling\":True,\n",
    "        \"json_output\":False,\n",
    "    }\n",
    ")"
   ]
  },
  {
   "cell_type": "markdown",
   "id": "fe6c5a0b",
   "metadata": {},
   "source": [
    "# Single Agent Approach\n",
    "\n",
    "single agent is going to create a short story for us"
   ]
  },
  {
   "cell_type": "code",
   "execution_count": 11,
   "id": "c83955aa",
   "metadata": {},
   "outputs": [],
   "source": [
    "story_agent = AssistantAgent(\n",
    "    name=\"story_agent\",\n",
    "    model_client=model_client,\n",
    "    system_message=\"You are a creating writer. Generate a short story about a brave knight and a dragon\"\n",
    ")"
   ]
  },
  {
   "cell_type": "code",
   "execution_count": 12,
   "id": "cd43de00",
   "metadata": {},
   "outputs": [
    {
     "name": "stdout",
     "output_type": "stream",
     "text": [
      "Sir Elric of Greycrest rode into the mist‑cloaked valley with a single, silver lance and a heart that missed no fear. The dragon, Amarath, lay coiled beneath the ancient oak, scales glittering like broken glass in the moonlight. The village’s cries of fire had reached Elric’s ears, but he knew the beast was not merely a monster; it was a guardian of a forgotten covenant.\n",
      "\n",
      " “Stand down!” Elric shouted, his voice cutting the wind.  \n",
      "Amarath’s eyes opened, amber and ancient. “Why do you disobey the pact?” the dragon breathed, its voice echoing through the trees.\n",
      "\n",
      "Elric lowered his lance slightly. “Because I see terror in the villagers’ eyes, not the curse you protect. I seek not to die, but to free them.”\n",
      "\n",
      "The dragon’s wings flickered. “I was bound to keep this valley warm with fire, until a human shone hope within my heart. That is you, Sir Knight.”\n",
      "\n",
      "With a gentle squeeze of the lance’s tip, Elric touched the dragon’s snout. A ripple of light surged over Amarath; fire turned to cooling mist. The dragon bowed its head, then ascended to the starry sky, leaving the valley safe.\n",
      "\n",
      "When dawn broke, the villagers found the oak sprouting golden blossoms, and Sir Elric’s bravery became the legend of brave hearts that once, against all odds, changed destiny.\n"
     ]
    }
   ],
   "source": [
    "from autogen_agentchat.messages import TextMessage\n",
    "\n",
    "async def test_simple_agent():\n",
    "    task = TextMessage(\n",
    "        content = \"Write a short story about a brave knight and a dragon. keep it upto 200 words\",\n",
    "        source = \"user\"\n",
    "    )\n",
    "    result = await story_agent.run(task=task)\n",
    "    print(result.messages[-1].content)\n",
    "    \n",
    "await test_simple_agent()"
   ]
  },
  {
   "cell_type": "markdown",
   "id": "712c2403",
   "metadata": {},
   "source": [
    "# Multi Agent Team Approach\n",
    "\n",
    "We will be using 3 agents to now write the story, each with its own work and mastery."
   ]
  },
  {
   "cell_type": "code",
   "execution_count": 13,
   "id": "fb299f7e",
   "metadata": {},
   "outputs": [],
   "source": [
    "plot_agent = AssistantAgent(\n",
    "    name ='plot_agent',\n",
    "    model_client=model_client,\n",
    "    system_message=\"you create engaging plots for stories. Focus on the knight's journey\"\n",
    ")\n",
    "\n",
    "character_agent = AssistantAgent(\n",
    "    name =\"character_agent\",\n",
    "    model_client=model_client,\n",
    "    system_message=\"You develop Characters. Describe the knight and the Dragon in details, including their motivations and backgrounds.\"\n",
    ")\n",
    "\n",
    "ending_agent = AssistantAgent(\n",
    "    name=\"ending_writer\",\n",
    "    model_client=model_client,\n",
    "    system_message=\"You write engaging endings. Conclude the story with a twist.\"\n",
    ")    "
   ]
  },
  {
   "cell_type": "code",
   "execution_count": 14,
   "id": "ffc26c4a",
   "metadata": {},
   "outputs": [
    {
     "name": "stdout",
     "output_type": "stream",
     "text": [
      "user:Write a short story about a brave knight and a dragon. keep it upto 400 words\n",
      "plot_agent:Sir Rowan rode from the mist‑shrouded Vale with a horn pressing against his cuirass. The villagers had whispered for months that a fearsome dragon lay atop the Eastern Spine, breathing fire that turned hearth‑wood to ash. Rowan’s sister, a midwife, had slipped a wisp of her health into his mind. “No dragon can win against the will of a heart that heals,” she’d said, waving his sword as she elbowed a bundle of herbs around the knob of his breastplate.\n",
      "\n",
      "He crossed stone arches, slipped into rock‑taken ridges, and, as twilight kissed the horizon, he finally saw the creature. It was no tyrant of lore—scales mottled like summer moss, eyes that glowed not with malice but with a weary loneliness. The dragon’s cry was not a threat; it was a lament, the echo of distant glades that once sang with dragonsong.\n",
      "\n",
      "“Who dares approach my dwelling?” the dragon intoned, its voice rumbling through the canyon.\n",
      "\n",
      "Rowan dismounted and, place by place, he unfolded the parchment that Golden Took had given for people who needed a moon’s blessing. “I offer the Berrywood Forest’s finest silkworms, and the passage over the ridge for caravans if you spare the village,” he spoke without fear, his voice steady as the winter river.\n",
      "\n",
      "The dragon’s massive wings unfurled, a howl of smoke slipping through the vines. In the silence that fell, Rowan saw a memory gleam behind the beast’s horns: a great fire that had scorched whole realms, a sky rained with ash. Perhaps it was the dragon’s revenge on mankind for trespassing on its birthright.\n",
      "\n",
      "“I fear no stone, but I fear a world where dragons rise only to be slain,” Rowan declared, looking past the beast’s fire‑scorched gut. “If I choose my path with compassion, we could keep the mountains alive.”\n",
      "\n",
      "The dragon sensed not just a knight, but an ally. Breath less fierce, it lowered its head. “Then let the roads open to your people,” it breathed, flanking the valley. “And if ever another fire breaks our bond, we shall seek it both.”\n",
      "\n",
      "Rowan did not slay the dragon, nor did he escape alone. Together they forged a pact. The villagers celebrated, not for a dragon’s death, but for a companion who watched over their fields. The brave knight learned that true courage sometimes lies not in a sword’s swing, but in the courage to seek understanding across fire and shadow.\n",
      "character_agent:**Sir Rowan of Grey Vale**  \n",
      "Age: 31  \n",
      "Background: Born to a humble smelter, Rowan was the sole survivor of a plague that struck his village. Raised by his elder sister, the village midwife, he learned to heal before he learned to wield a sword. A squire to a wandering knight, he eventually became a knight of the Order of the Pale Star, sworn to protect the people of the Vale.  \n",
      "Motivation: Rowan’s heart is dedicated to preserving life; when his sister warned him that “no dragon can win against the will of a heart that heals,” he vowed to confront the beast not with fire, but with faith.  \n",
      "\n",
      "**Emberwyn, the Spine‑Drake**  \n",
      "Age: 3,000‑plus years  \n",
      "Background: Once a mighty defender of the ancient dragon realms, Emberwyn was scorched for refusing to betray her kin. Years ago the Eastern Spine was carved by encroaching kingdoms, and Emberwyn now war‑torn, wary of men.  \n",
      "Motivation: Though fire‑breath and ancient rage mark her form, her eyes hold a weary loneliness. Emberwyn seeks a pact that preserves her home without engulfing humanity in flame.  \n",
      "\n",
      "---\n",
      "\n",
      "Sir Rowan rode the mist‑shrouded Vale as the sun fell, horn pressed to his cuirass. The villagers whispered that a fire‑breathing dragon perched upon the Eastern Spine—scorching hearth‑wood, threatening their crops. Rowan’s sister, midwife of the village, had slipped her quiet strength into his mind: *“No dragon can win against the will of a heart that heals.”*  \n",
      "Crossing stone arches and sliding into cragged ridges, Rowan entered twilight’s gray cloak. Above him, scales mottled like summer moss glittered. Emberwyn’s eyes, bright amber not with malice but with weariness, met his gaze. Her breathing filled the canyon with a low, rustling hiss.  \n",
      "“You dare tread the Spine, mortal?” the dragon’s voice rumbled through the canyon, thunderclap of a storm hidden beneath.  \n",
      "Rowan dismounted, his hand hovering over the golden seal of the Order. “I offer you the silkworm silk of Berrywood Forest, and a pass for caravans through the ridge, if you spare our homes.”  \n",
      "A wind of smoke curled from Emberwyn’s nostrils. The ancient beast closed her gaze, remembering a sky littered with ash, a world scorched by man.  \n",
      "“I fear not stone, but a world where dragons are catalogued for vengeance,” Rowan answered, ears sweeping the silence like a spring flood. “If we heal with compassion, the mountains can live.”  \n",
      "The great wings unfurled mottled with moss, a sigh of resentment. Emberwyn’s deep, resigned breath fell on the valley. “Then guardianship rises for your people,” she conceded, flames reduced to warm embers that kissed the earth.  \n",
      "Rowan returned to the Vale with a pledge. The villagers celebrated not a dragon’s death but a pact forged in trust: a companion who would keep the fields safe, and a knight who had learned the bravest act was to seek understanding across fire and shadow. The mountain’s heart beat in harmony, and the story of Sir Rowan and Emberwyn spread through the valleys, a tale of courage, healed wounds, and the promise of coexistence.\n",
      "ending_writer:Sir Rowan of Grey Vale rode the mist‑shrouded Vale as the sun fell, horn pressed to his cuirass. The village tale spoke of a fire‑breathing beast perched on the Eastern Spine – a dragon that devoured hearth‑wood, turned crops to ash, and brought nightmares to the valley. Yet Rowan’s sister, the midwife of the village, had slipped her quiet strength into his mind: *“No dragon can win against the will of a heart that heals.”* That whispered promise became his sword‑less armor.\n",
      "\n",
      "Crossing stone arches and sliding into cragged ridges, Twilight cloaked the world in gray. Above him, scales mottled like summer moss glittered. Emberwyn – the bone‑grey Spine‑Drake – surveyed the challenger with amber eyes that burned not with wrath but with weariness. Her voice rumbled into the canyon, a storm’s edge hidden in her hiss.\n",
      "\n",
      "“You dare tread the Spine, mortal?” she asked, and the mountain seemed to shiver beneath her call.\n",
      "\n",
      "Rowan dismounted, his hand hovering over the golden seal of the Pale Star. “I come bearing the silkworm silk of Berrywood Forest and a pass for caravans through the ridge, should you spare our homes,” he said, the oath of the midwife tightening his resolve.\n",
      "\n",
      "A wind of smoke curled from Emberwyn’s nostrils. The ancient beast closed her gaze, remembering a sky littered with ash, a world scorched by men. Her breath fell short of flame; it was warm, like embers tucking a winter hearth into life.\n",
      "\n",
      "“I fear not stone, but a world where dragons are catalogued for vengeance,” Rowan answered, ears sweeping the silence like a spring flood. “If we heal with compassion, the mountains can live.”\n",
      "\n",
      "Her wings unfolded, mottled with moss, a sigh of resentment. Emberwyn’s deep, resigned breath fell on the valley. “Then guardianship rises for your people,” she conceded, flames reduced to warm embers that kissed the earth.\n",
      "\n",
      "They struck a pact: the dragon would guard the valley and the villagers would protect the Spine’s secret. Rowan returned to the Vale, the beating heart of the mountain in his mind. The village celebrated not a dragon’s death but a new covenant of trust. But as Rowan laid his head that night, the forest’s wind spoke a single word: *Here.*\n",
      "\n",
      "In the dawn, he found the ancient cliffside mural he'd forgotten – a vast, boiling crimson swath wrapping around the western ridge. It wasn’t a beast at all, but a living forge of stone and fire, carved by those who had once slayer the serpent. Emberwyn’s “scorching hearth‑wood” was the very fire that kept the valley’s crops alive, not a threat. The twist of the tale lay not in the dragon’s allegiance, but in the swamp of myth: the dragon had always been the valley’s heartbeat, and Rowan, with his healing heart, had become its next voice.\n",
      "\n",
      "In the quiet stillness, he understood – true courage might one day mean becoming the very dragon whose fire he had once feared. And if the valley still echoed with Emberwyn’s watchful breath, it was because the sky, the mountain, and the dragon had all sworn to protect the heart that still healed.\n"
     ]
    }
   ],
   "source": [
    "from autogen_agentchat.teams import RoundRobinGroupChat\n",
    "\n",
    "team = RoundRobinGroupChat(\n",
    "    [ plot_agent, character_agent, ending_agent],\n",
    "    max_turns= 3,\n",
    ")\n",
    "\n",
    "async def test_team():\n",
    "    task = TextMessage(\n",
    "        content = \"Write a short story about a brave knight and a dragon. keep it upto 400 words\",\n",
    "        source = \"user\")\n",
    "    result = await team.run(task=task)\n",
    "    for each_agent_messg in result.messages:\n",
    "        print(f'{each_agent_messg.source}:{each_agent_messg.content}')\n",
    "\n",
    "await test_team()"
   ]
  },
  {
   "cell_type": "markdown",
   "id": "34841cc7",
   "metadata": {},
   "source": [
    "# Comparison Agent"
   ]
  },
  {
   "cell_type": "markdown",
   "id": "31148ed2",
   "metadata": {},
   "source": [
    "Aspect:\n",
    "\n",
    "1. Creativity:\n",
    "\n",
    "Single Agent:  Limited to one viewpoint whereas multiagent team - Diverse ideas from each agent.\n",
    "\n",
    "2. Depth:\n",
    "\n",
    "Single agent: Basic story elements  \n",
    "multi agent : Detailed plot, Characters and endings\n",
    "\n",
    "3. Flexibility:\n",
    "\n",
    "Single agent : stuck to one stype\n",
    "multi agent : adaptable with specialized roles and styles\n",
    "\n",
    "4. Setup effort:\n",
    "\n",
    "single agent : simple setup\n",
    "multi agent: more agents and teams setup which can provide better output."
   ]
  },
  {
   "cell_type": "code",
   "execution_count": null,
   "id": "1ab6d8db",
   "metadata": {},
   "outputs": [],
   "source": []
  },
  {
   "cell_type": "code",
   "execution_count": null,
   "id": "f5b2e84e",
   "metadata": {},
   "outputs": [],
   "source": []
  }
 ],
 "metadata": {
  "kernelspec": {
   "display_name": "Python 3",
   "language": "python",
   "name": "python3"
  },
  "language_info": {
   "codemirror_mode": {
    "name": "ipython",
    "version": 3
   },
   "file_extension": ".py",
   "mimetype": "text/x-python",
   "name": "python",
   "nbconvert_exporter": "python",
   "pygments_lexer": "ipython3",
   "version": "3.12.0"
  }
 },
 "nbformat": 4,
 "nbformat_minor": 5
}
