{
 "cells": [
  {
   "cell_type": "markdown",
   "id": "212a1568",
   "metadata": {},
   "source": [
    "# Managing Agent State - Saving and Loading Agents"
   ]
  },
  {
   "cell_type": "code",
   "execution_count": 1,
   "id": "59fe5496",
   "metadata": {},
   "outputs": [],
   "source": [
    "import asyncio\n",
    "from autogen_core import CancellationToken\n",
    "from autogen_ext.models.openai import OpenAIChatCompletionClient\n",
    "from autogen_agentchat.agents import AssistantAgent\n",
    "from autogen_ext.models.ollama import OllamaChatCompletionClient\n",
    "from autogen_agentchat.conditions import TextMentionTermination\n",
    "from autogen_agentchat.teams import RoundRobinGroupChat\n",
    "from autogen_agentchat.messages import TextMessage\n",
    "\n",
    "model_client = OllamaChatCompletionClient(model=\"gemma2:latest\")"
   ]
  },
  {
   "cell_type": "code",
   "execution_count": 2,
   "id": "1e70799f",
   "metadata": {},
   "outputs": [
    {
     "name": "stdout",
     "output_type": "stream",
     "text": [
      "Of course! \n",
      "\n",
      "**France Itinerary: May-June (Concise)**\n",
      "\n",
      "* **Week 1: Paris**  (Iconic sights, museums, delicious food!)\n",
      "    * Eiffel Tower, Louvre Museum, Notre Dame, stroll through Montmartre.\n",
      "* **Week 2: Provence** (Lavender fields, charming towns, sunny beaches)\n",
      "    * Avignon, Aix-en-Provence, Nice, explore the French Riviera.\n",
      "* **Week 3: Loire Valley** (Magnificent chateaux, vineyards, bike tours)\n",
      "    * Visit Chambord, Chenonceau, Amboise, sample local wines.\n",
      "\n",
      "**Tips:**\n",
      "\n",
      "* Book accommodations in advance, especially for popular destinations.\n",
      "* Consider a France Rail Pass for efficient travel between cities.\n",
      "* Pack layers, as weather can change quickly.\n",
      "\n",
      "\n",
      "Enjoy your trip! 🇫🇷\n"
     ]
    }
   ],
   "source": [
    "assistant = AssistantAgent(\n",
    "    name=\"assistant\",\n",
    "    model_client=model_client,\n",
    "    system_message=\"YOu are a helpful assistant who can answer questions and provide information on a wide range of topics. You are friendly, informative, and concise.\"\n",
    ")\n",
    "\n",
    "response = await assistant.on_messages(\n",
    "    [TextMessage(content=\"Can you help me with a travel itinerary of France from may to june? make sure to keep it concise\",\n",
    "    source =\"user\")],\n",
    "    cancellation_token=CancellationToken(),\n",
    ")\n",
    "\n",
    "print(response.chat_message.content)"
   ]
  },
  {
   "cell_type": "code",
   "execution_count": 3,
   "id": "38e6b4a1",
   "metadata": {},
   "outputs": [],
   "source": [
    "agent_State = await assistant.save_state()"
   ]
  },
  {
   "cell_type": "code",
   "execution_count": 4,
   "id": "39b24a5a",
   "metadata": {},
   "outputs": [
    {
     "name": "stdout",
     "output_type": "stream",
     "text": [
      "{'type': 'AssistantAgentState', 'version': '1.0.0', 'llm_context': {'messages': [{'content': 'Can you help me with a travel itinerary of France from may to june? make sure to keep it concise', 'source': 'user', 'type': 'UserMessage'}, {'content': 'Of course! \\n\\n**France Itinerary: May-June (Concise)**\\n\\n* **Week 1: Paris**  (Iconic sights, museums, delicious food!)\\n    * Eiffel Tower, Louvre Museum, Notre Dame, stroll through Montmartre.\\n* **Week 2: Provence** (Lavender fields, charming towns, sunny beaches)\\n    * Avignon, Aix-en-Provence, Nice, explore the French Riviera.\\n* **Week 3: Loire Valley** (Magnificent chateaux, vineyards, bike tours)\\n    * Visit Chambord, Chenonceau, Amboise, sample local wines.\\n\\n**Tips:**\\n\\n* Book accommodations in advance, especially for popular destinations.\\n* Consider a France Rail Pass for efficient travel between cities.\\n* Pack layers, as weather can change quickly.\\n\\n\\nEnjoy your trip! 🇫🇷', 'thought': None, 'source': 'assistant', 'type': 'AssistantMessage'}]}}\n"
     ]
    }
   ],
   "source": [
    "print(agent_State)"
   ]
  },
  {
   "cell_type": "code",
   "execution_count": 6,
   "id": "10560c06",
   "metadata": {},
   "outputs": [],
   "source": [
    "new_assistant_agent = AssistantAgent(\n",
    "    name =\"AssistantAgent_2\",\n",
    "    model_client=model_client,\n",
    "    system_message=\"You are a helpful assistant\"\n",
    ")"
   ]
  },
  {
   "cell_type": "markdown",
   "id": "391271ab",
   "metadata": {},
   "source": [
    "we pluggend in the memory of previous agent"
   ]
  },
  {
   "cell_type": "code",
   "execution_count": 7,
   "id": "70b59895",
   "metadata": {},
   "outputs": [],
   "source": [
    "await new_assistant_agent.load_state(agent_State)"
   ]
  },
  {
   "cell_type": "code",
   "execution_count": 8,
   "id": "70daf971",
   "metadata": {},
   "outputs": [
    {
     "name": "stdout",
     "output_type": "stream",
     "text": [
      "Our last discussion was about creating a concise travel itinerary for France in May and June.  \n",
      "\n",
      "I provided a suggestion that included:\n",
      "\n",
      "* A week in Paris, focusing on iconic landmarks and museums.\n",
      "* A week exploring Provence, including lavender fields and the French Riviera.\n",
      "* A week in the Loire Valley, with visits to chateaux and vineyards.\n",
      "\n",
      "\n",
      "Let me know if you have any other questions or want to refine this itinerary further!\n"
     ]
    }
   ],
   "source": [
    "response = await new_assistant_agent.on_messages(\n",
    "    [TextMessage(content=\"Can you tell me what was the last discussion about?\",\n",
    "    source =\"user\")],\n",
    "    cancellation_token=CancellationToken(),\n",
    ")\n",
    "\n",
    "print(response.chat_message.content)"
   ]
  },
  {
   "cell_type": "code",
   "execution_count": null,
   "id": "3a289bc9",
   "metadata": {},
   "outputs": [],
   "source": []
  }
 ],
 "metadata": {
  "kernelspec": {
   "display_name": "Python 3",
   "language": "python",
   "name": "python3"
  },
  "language_info": {
   "codemirror_mode": {
    "name": "ipython",
    "version": 3
   },
   "file_extension": ".py",
   "mimetype": "text/x-python",
   "name": "python",
   "nbconvert_exporter": "python",
   "pygments_lexer": "ipython3",
   "version": "3.12.0"
  }
 },
 "nbformat": 4,
 "nbformat_minor": 5
}
