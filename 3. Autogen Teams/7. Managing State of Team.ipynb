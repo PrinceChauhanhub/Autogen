{
 "cells": [
  {
   "cell_type": "markdown",
   "id": "e77a23d9",
   "metadata": {},
   "source": [
    "# Managing Team State - Saving and Loading Teams\n",
    "\n",
    "\n",
    "\n",
    "isme basically ham kaam krne ke baad state ko save kr dete hain, if agar reset kiya agent team ko agar hme fir se pehle state jisha hona hai to whi save state ko load krnege to agent ke paas purani wali memory or state aa jayegi"
   ]
  },
  {
   "cell_type": "code",
   "execution_count": 2,
   "id": "cc16a161",
   "metadata": {},
   "outputs": [],
   "source": [
    "import asyncio\n",
    "from autogen_core import CancellationToken\n",
    "from autogen_ext.models.openai import OpenAIChatCompletionClient\n",
    "from autogen_agentchat.agents import AssistantAgent\n",
    "from autogen_ext.models.ollama import OllamaChatCompletionClient\n",
    "from autogen_agentchat.conditions import TextMentionTermination\n",
    "from autogen_agentchat.teams import RoundRobinGroupChat\n",
    "from autogen_agentchat.messages import TextMessage\n",
    "\n",
    "model_client = OllamaChatCompletionClient(model=\"gemma2:latest\")"
   ]
  },
  {
   "cell_type": "code",
   "execution_count": 3,
   "id": "057055dc",
   "metadata": {},
   "outputs": [],
   "source": [
    "from autogen_agentchat.conditions import MaxMessageTermination\n",
    "agent1 = AssistantAgent(\n",
    "    name = \"writer1\",\n",
    "    model_client=model_client,\n",
    "    system_message=\"You are a contemporary writer. Give the output in less than 30 words.\"\n",
    ")\n",
    "\n",
    "agent2 = AssistantAgent(\n",
    "    name = \"writer2\",\n",
    "    model_client=model_client,\n",
    "    system_message=\"You are a classic writer. Give the output in less than 30 words.\"\n",
    ")\n",
    "\n",
    "termination_condition = MaxMessageTermination(max_messages=3)\n",
    "agent_team = RoundRobinGroupChat(participants=[agent1,agent2], termination_condition=termination_condition)"
   ]
  },
  {
   "cell_type": "code",
   "execution_count": 4,
   "id": "b054cef3",
   "metadata": {},
   "outputs": [],
   "source": [
    "stream = agent_team.run_stream(task=\"Write a poem about the sea in 3 lines\")"
   ]
  },
  {
   "cell_type": "code",
   "execution_count": 5,
   "id": "9a69be4f",
   "metadata": {},
   "outputs": [
    {
     "name": "stdout",
     "output_type": "stream",
     "text": [
      "---------- TextMessage (user) ----------\n",
      "Write a poem about the sea in 3 lines\n",
      "---------- TextMessage (writer1) ----------\n",
      "Salt air whispers secrets untold,\n",
      "Waves crash and sigh, an endless gold.\n",
      "The ocean breathes, both fierce and bold. \n",
      "\n",
      "\n",
      "\n",
      "---------- TextMessage (writer2) ----------\n",
      "The boundless blue, a restless soul,\n",
      "Where silver foam on sunbeams stroll,\n",
      "And crashing waves reach heaven's goal.  \n",
      "\n"
     ]
    },
    {
     "data": {
      "text/plain": [
       "TaskResult(messages=[TextMessage(id='de6b430d-9f92-4fd1-a47e-e824695e6417', source='user', models_usage=None, metadata={}, created_at=datetime.datetime(2025, 10, 10, 10, 34, 31, 601799, tzinfo=datetime.timezone.utc), content='Write a poem about the sea in 3 lines', type='TextMessage'), TextMessage(id='0b44c10a-a7e6-4288-b1e4-0d84296d5b86', source='writer1', models_usage=RequestUsage(prompt_tokens=36, completion_tokens=29), metadata={}, created_at=datetime.datetime(2025, 10, 10, 10, 34, 52, 861072, tzinfo=datetime.timezone.utc), content='Salt air whispers secrets untold,\\nWaves crash and sigh, an endless gold.\\nThe ocean breathes, both fierce and bold. \\n\\n\\n', type='TextMessage'), TextMessage(id='a5b1b9e1-9790-41d8-a334-a8cf3252ded0', source='writer2', models_usage=RequestUsage(prompt_tokens=65, completion_tokens=30), metadata={}, created_at=datetime.datetime(2025, 10, 10, 10, 35, 4, 143390, tzinfo=datetime.timezone.utc), content=\"The boundless blue, a restless soul,\\nWhere silver foam on sunbeams stroll,\\nAnd crashing waves reach heaven's goal.  \\n\", type='TextMessage')], stop_reason='Maximum number of messages 3 reached, current message count: 3')"
      ]
     },
     "execution_count": 5,
     "metadata": {},
     "output_type": "execute_result"
    }
   ],
   "source": [
    "from autogen_agentchat.ui import Console\n",
    "await Console(stream)"
   ]
  },
  {
   "cell_type": "code",
   "execution_count": 6,
   "id": "a3fceb76",
   "metadata": {},
   "outputs": [
    {
     "name": "stdout",
     "output_type": "stream",
     "text": [
      "Team state saved.\n",
      "{'type': 'TeamState', 'version': '1.0.0', 'agent_states': {'writer1': {'type': 'ChatAgentContainerState', 'version': '1.0.0', 'agent_state': {'type': 'AssistantAgentState', 'version': '1.0.0', 'llm_context': {'messages': [{'content': 'Write a poem about the sea in 3 lines', 'source': 'user', 'type': 'UserMessage'}, {'content': 'Salt air whispers secrets untold,\\nWaves crash and sigh, an endless gold.\\nThe ocean breathes, both fierce and bold. \\n\\n\\n', 'thought': None, 'source': 'writer1', 'type': 'AssistantMessage'}]}}, 'message_buffer': [{'id': 'a5b1b9e1-9790-41d8-a334-a8cf3252ded0', 'source': 'writer2', 'models_usage': {'prompt_tokens': 65, 'completion_tokens': 30}, 'metadata': {}, 'created_at': '2025-10-10T10:35:04.143390Z', 'content': \"The boundless blue, a restless soul,\\nWhere silver foam on sunbeams stroll,\\nAnd crashing waves reach heaven's goal.  \\n\", 'type': 'TextMessage'}]}, 'writer2': {'type': 'ChatAgentContainerState', 'version': '1.0.0', 'agent_state': {'type': 'AssistantAgentState', 'version': '1.0.0', 'llm_context': {'messages': [{'content': 'Write a poem about the sea in 3 lines', 'source': 'user', 'type': 'UserMessage'}, {'content': 'Salt air whispers secrets untold,\\nWaves crash and sigh, an endless gold.\\nThe ocean breathes, both fierce and bold. \\n\\n\\n', 'source': 'writer1', 'type': 'UserMessage'}, {'content': \"The boundless blue, a restless soul,\\nWhere silver foam on sunbeams stroll,\\nAnd crashing waves reach heaven's goal.  \\n\", 'thought': None, 'source': 'writer2', 'type': 'AssistantMessage'}]}}, 'message_buffer': []}, 'RoundRobinGroupChatManager': {'type': 'RoundRobinManagerState', 'version': '1.0.0', 'message_thread': [{'id': 'de6b430d-9f92-4fd1-a47e-e824695e6417', 'source': 'user', 'models_usage': None, 'metadata': {}, 'created_at': '2025-10-10T10:34:31.601799Z', 'content': 'Write a poem about the sea in 3 lines', 'type': 'TextMessage'}, {'id': '0b44c10a-a7e6-4288-b1e4-0d84296d5b86', 'source': 'writer1', 'models_usage': {'prompt_tokens': 36, 'completion_tokens': 29}, 'metadata': {}, 'created_at': '2025-10-10T10:34:52.861072Z', 'content': 'Salt air whispers secrets untold,\\nWaves crash and sigh, an endless gold.\\nThe ocean breathes, both fierce and bold. \\n\\n\\n', 'type': 'TextMessage'}, {'id': 'a5b1b9e1-9790-41d8-a334-a8cf3252ded0', 'source': 'writer2', 'models_usage': {'prompt_tokens': 65, 'completion_tokens': 30}, 'metadata': {}, 'created_at': '2025-10-10T10:35:04.143390Z', 'content': \"The boundless blue, a restless soul,\\nWhere silver foam on sunbeams stroll,\\nAnd crashing waves reach heaven's goal.  \\n\", 'type': 'TextMessage'}], 'current_turn': 0, 'next_speaker_index': 0}}}\n"
     ]
    }
   ],
   "source": [
    "team_state = await agent_team.save_state()\n",
    "print(\"Team state saved.\")\n",
    "print(team_state)\n"
   ]
  },
  {
   "cell_type": "code",
   "execution_count": 7,
   "id": "b8082961",
   "metadata": {},
   "outputs": [],
   "source": [
    "await agent_team.reset()"
   ]
  },
  {
   "cell_type": "code",
   "execution_count": 8,
   "id": "a5fd06a7",
   "metadata": {},
   "outputs": [],
   "source": [
    "stream = agent_team.run_stream(task=\"what is the last line of poem you wrote\")"
   ]
  },
  {
   "cell_type": "code",
   "execution_count": 9,
   "id": "9e2696f8",
   "metadata": {},
   "outputs": [
    {
     "name": "stdout",
     "output_type": "stream",
     "text": [
      "---------- TextMessage (user) ----------\n",
      "what is the last line of poem you wrote\n"
     ]
    },
    {
     "name": "stdout",
     "output_type": "stream",
     "text": [
      "---------- TextMessage (writer1) ----------\n",
      "The city sighs, a concrete lullaby under neon skies.  \n",
      "\n",
      "---------- TextMessage (writer2) ----------\n",
      "And dreams of cobblestones whisper beneath steel's cold sigh.  \n",
      "\n"
     ]
    },
    {
     "data": {
      "text/plain": [
       "TaskResult(messages=[TextMessage(id='e512acc4-375c-44ab-a48a-ec4baf8a783a', source='user', models_usage=None, metadata={}, created_at=datetime.datetime(2025, 10, 10, 10, 35, 4, 266336, tzinfo=datetime.timezone.utc), content='what is the last line of poem you wrote', type='TextMessage'), TextMessage(id='0053d592-c1b5-4323-95f2-cbe380ce6ba2', source='writer1', models_usage=RequestUsage(prompt_tokens=35, completion_tokens=15), metadata={}, created_at=datetime.datetime(2025, 10, 10, 10, 35, 10, 682200, tzinfo=datetime.timezone.utc), content='The city sighs, a concrete lullaby under neon skies.  \\n', type='TextMessage'), TextMessage(id='fe9b7d80-7992-46dd-a33b-bedbb0c0046a', source='writer2', models_usage=RequestUsage(prompt_tokens=50, completion_tokens=17), metadata={}, created_at=datetime.datetime(2025, 10, 10, 10, 35, 18, 331217, tzinfo=datetime.timezone.utc), content=\"And dreams of cobblestones whisper beneath steel's cold sigh.  \\n\", type='TextMessage')], stop_reason='Maximum number of messages 3 reached, current message count: 3')"
      ]
     },
     "execution_count": 9,
     "metadata": {},
     "output_type": "execute_result"
    }
   ],
   "source": [
    "await Console(stream)\n"
   ]
  },
  {
   "cell_type": "code",
   "execution_count": 10,
   "id": "316d4f85",
   "metadata": {},
   "outputs": [],
   "source": [
    "await agent_team.load_state(team_state)"
   ]
  },
  {
   "cell_type": "code",
   "execution_count": 11,
   "id": "21c4e16e",
   "metadata": {},
   "outputs": [
    {
     "name": "stdout",
     "output_type": "stream",
     "text": [
      "---------- TextMessage (user) ----------\n",
      "what is the last line of poem you wrote\n",
      "---------- TextMessage (writer1) ----------\n",
      "The last line of the poem is: \"And crashing waves reach heaven's goal.\" \n",
      "\n",
      "---------- TextMessage (writer2) ----------\n",
      "You are absolutely right!  I am still under development and learning to pay better attention to detail.  Thank you for catching that. 😊 \n",
      "\n"
     ]
    },
    {
     "data": {
      "text/plain": [
       "TaskResult(messages=[TextMessage(id='ddea9579-e9d1-4e96-91dc-685fecdbe0f5', source='user', models_usage=None, metadata={}, created_at=datetime.datetime(2025, 10, 10, 10, 35, 18, 388512, tzinfo=datetime.timezone.utc), content='what is the last line of poem you wrote', type='TextMessage'), TextMessage(id='63ad1064-e7bf-4a1b-923f-9ee5b808c90a', source='writer1', models_usage=RequestUsage(prompt_tokens=112, completion_tokens=21), metadata={}, created_at=datetime.datetime(2025, 10, 10, 10, 35, 35, 810468, tzinfo=datetime.timezone.utc), content='The last line of the poem is: \"And crashing waves reach heaven\\'s goal.\" \\n', type='TextMessage'), TextMessage(id='7fc4f169-c1f6-4eb6-9d8c-485b08cccd63', source='writer2', models_usage=RequestUsage(prompt_tokens=134, completion_tokens=31), metadata={}, created_at=datetime.datetime(2025, 10, 10, 10, 35, 54, 103854, tzinfo=datetime.timezone.utc), content='You are absolutely right!  I am still under development and learning to pay better attention to detail.  Thank you for catching that. 😊 \\n', type='TextMessage')], stop_reason='Maximum number of messages 3 reached, current message count: 3')"
      ]
     },
     "execution_count": 11,
     "metadata": {},
     "output_type": "execute_result"
    }
   ],
   "source": [
    "stream = agent_team.run_stream(task=\"what is the last line of poem you wrote\")\n",
    "await Console(stream)"
   ]
  },
  {
   "cell_type": "code",
   "execution_count": 12,
   "id": "002c0e03",
   "metadata": {},
   "outputs": [],
   "source": [
    "import json"
   ]
  },
  {
   "cell_type": "code",
   "execution_count": 13,
   "id": "f0bdde2a",
   "metadata": {},
   "outputs": [],
   "source": [
    "with open('team_state.json','w') as f:\n",
    "    json.dump(team_state,f)"
   ]
  },
  {
   "cell_type": "code",
   "execution_count": 14,
   "id": "a4a7e0dd",
   "metadata": {},
   "outputs": [
    {
     "data": {
      "text/plain": [
       "{'type': 'TeamState',\n",
       " 'version': '1.0.0',\n",
       " 'agent_states': {'writer1': {'type': 'ChatAgentContainerState',\n",
       "   'version': '1.0.0',\n",
       "   'agent_state': {'type': 'AssistantAgentState',\n",
       "    'version': '1.0.0',\n",
       "    'llm_context': {'messages': [{'content': 'Write a poem about the sea in 3 lines',\n",
       "       'source': 'user',\n",
       "       'type': 'UserMessage'},\n",
       "      {'content': 'Salt air whispers secrets untold,\\nWaves crash and sigh, an endless gold.\\nThe ocean breathes, both fierce and bold. \\n\\n\\n',\n",
       "       'thought': None,\n",
       "       'source': 'writer1',\n",
       "       'type': 'AssistantMessage'}]}},\n",
       "   'message_buffer': [{'id': 'a5b1b9e1-9790-41d8-a334-a8cf3252ded0',\n",
       "     'source': 'writer2',\n",
       "     'models_usage': {'prompt_tokens': 65, 'completion_tokens': 30},\n",
       "     'metadata': {},\n",
       "     'created_at': '2025-10-10T10:35:04.143390Z',\n",
       "     'content': \"The boundless blue, a restless soul,\\nWhere silver foam on sunbeams stroll,\\nAnd crashing waves reach heaven's goal.  \\n\",\n",
       "     'type': 'TextMessage'}]},\n",
       "  'writer2': {'type': 'ChatAgentContainerState',\n",
       "   'version': '1.0.0',\n",
       "   'agent_state': {'type': 'AssistantAgentState',\n",
       "    'version': '1.0.0',\n",
       "    'llm_context': {'messages': [{'content': 'Write a poem about the sea in 3 lines',\n",
       "       'source': 'user',\n",
       "       'type': 'UserMessage'},\n",
       "      {'content': 'Salt air whispers secrets untold,\\nWaves crash and sigh, an endless gold.\\nThe ocean breathes, both fierce and bold. \\n\\n\\n',\n",
       "       'source': 'writer1',\n",
       "       'type': 'UserMessage'},\n",
       "      {'content': \"The boundless blue, a restless soul,\\nWhere silver foam on sunbeams stroll,\\nAnd crashing waves reach heaven's goal.  \\n\",\n",
       "       'thought': None,\n",
       "       'source': 'writer2',\n",
       "       'type': 'AssistantMessage'}]}},\n",
       "   'message_buffer': []},\n",
       "  'RoundRobinGroupChatManager': {'type': 'RoundRobinManagerState',\n",
       "   'version': '1.0.0',\n",
       "   'message_thread': [{'id': 'de6b430d-9f92-4fd1-a47e-e824695e6417',\n",
       "     'source': 'user',\n",
       "     'models_usage': None,\n",
       "     'metadata': {},\n",
       "     'created_at': '2025-10-10T10:34:31.601799Z',\n",
       "     'content': 'Write a poem about the sea in 3 lines',\n",
       "     'type': 'TextMessage'},\n",
       "    {'id': '0b44c10a-a7e6-4288-b1e4-0d84296d5b86',\n",
       "     'source': 'writer1',\n",
       "     'models_usage': {'prompt_tokens': 36, 'completion_tokens': 29},\n",
       "     'metadata': {},\n",
       "     'created_at': '2025-10-10T10:34:52.861072Z',\n",
       "     'content': 'Salt air whispers secrets untold,\\nWaves crash and sigh, an endless gold.\\nThe ocean breathes, both fierce and bold. \\n\\n\\n',\n",
       "     'type': 'TextMessage'},\n",
       "    {'id': 'a5b1b9e1-9790-41d8-a334-a8cf3252ded0',\n",
       "     'source': 'writer2',\n",
       "     'models_usage': {'prompt_tokens': 65, 'completion_tokens': 30},\n",
       "     'metadata': {},\n",
       "     'created_at': '2025-10-10T10:35:04.143390Z',\n",
       "     'content': \"The boundless blue, a restless soul,\\nWhere silver foam on sunbeams stroll,\\nAnd crashing waves reach heaven's goal.  \\n\",\n",
       "     'type': 'TextMessage'}],\n",
       "   'current_turn': 0,\n",
       "   'next_speaker_index': 0}}}"
      ]
     },
     "execution_count": 14,
     "metadata": {},
     "output_type": "execute_result"
    }
   ],
   "source": [
    "team_state"
   ]
  },
  {
   "cell_type": "code",
   "execution_count": null,
   "id": "1725c9bd",
   "metadata": {},
   "outputs": [],
   "source": []
  }
 ],
 "metadata": {
  "kernelspec": {
   "display_name": "Python 3",
   "language": "python",
   "name": "python3"
  },
  "language_info": {
   "codemirror_mode": {
    "name": "ipython",
    "version": 3
   },
   "file_extension": ".py",
   "mimetype": "text/x-python",
   "name": "python",
   "nbconvert_exporter": "python",
   "pygments_lexer": "ipython3",
   "version": "3.12.0"
  }
 },
 "nbformat": 4,
 "nbformat_minor": 5
}
