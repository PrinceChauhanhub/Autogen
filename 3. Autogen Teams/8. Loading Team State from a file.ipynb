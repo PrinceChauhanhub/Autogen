{
 "cells": [
  {
   "cell_type": "markdown",
   "id": "29d06737",
   "metadata": {},
   "source": [
    "# Loading Team State from a File"
   ]
  },
  {
   "cell_type": "markdown",
   "id": "14714720",
   "metadata": {},
   "source": [
    "hm state ko file mein save krenge ki agar kbhi crash ya fir koi issue aata hai to us file se state ko load kr skenge"
   ]
  },
  {
   "cell_type": "code",
   "execution_count": 1,
   "id": "51eeb606",
   "metadata": {},
   "outputs": [],
   "source": [
    "import asyncio\n",
    "from autogen_core import CancellationToken\n",
    "from autogen_ext.models.openai import OpenAIChatCompletionClient\n",
    "from autogen_agentchat.agents import AssistantAgent\n",
    "from autogen_ext.models.ollama import OllamaChatCompletionClient\n",
    "from autogen_agentchat.conditions import TextMentionTermination\n",
    "from autogen_agentchat.teams import RoundRobinGroupChat\n",
    "from autogen_agentchat.messages import TextMessage\n",
    "\n",
    "model_client = OllamaChatCompletionClient(model=\"gemma2:latest\")"
   ]
  },
  {
   "cell_type": "code",
   "execution_count": 2,
   "id": "7c4ca11c",
   "metadata": {},
   "outputs": [
    {
     "data": {
      "text/plain": [
       "{'type': 'TeamState',\n",
       " 'version': '1.0.0',\n",
       " 'agent_states': {'writer1': {'type': 'ChatAgentContainerState',\n",
       "   'version': '1.0.0',\n",
       "   'agent_state': {'type': 'AssistantAgentState',\n",
       "    'version': '1.0.0',\n",
       "    'llm_context': {'messages': [{'content': 'Write a poem about the sea in 3 lines',\n",
       "       'source': 'user',\n",
       "       'type': 'UserMessage'},\n",
       "      {'content': 'Salt air whispers secrets untold,\\nWaves crash and sigh, an endless gold.\\nThe ocean breathes, both fierce and bold. \\n\\n\\n',\n",
       "       'thought': None,\n",
       "       'source': 'writer1',\n",
       "       'type': 'AssistantMessage'}]}},\n",
       "   'message_buffer': [{'id': 'a5b1b9e1-9790-41d8-a334-a8cf3252ded0',\n",
       "     'source': 'writer2',\n",
       "     'models_usage': {'prompt_tokens': 65, 'completion_tokens': 30},\n",
       "     'metadata': {},\n",
       "     'created_at': '2025-10-10T10:35:04.143390Z',\n",
       "     'content': \"The boundless blue, a restless soul,\\nWhere silver foam on sunbeams stroll,\\nAnd crashing waves reach heaven's goal.  \\n\",\n",
       "     'type': 'TextMessage'}]},\n",
       "  'writer2': {'type': 'ChatAgentContainerState',\n",
       "   'version': '1.0.0',\n",
       "   'agent_state': {'type': 'AssistantAgentState',\n",
       "    'version': '1.0.0',\n",
       "    'llm_context': {'messages': [{'content': 'Write a poem about the sea in 3 lines',\n",
       "       'source': 'user',\n",
       "       'type': 'UserMessage'},\n",
       "      {'content': 'Salt air whispers secrets untold,\\nWaves crash and sigh, an endless gold.\\nThe ocean breathes, both fierce and bold. \\n\\n\\n',\n",
       "       'source': 'writer1',\n",
       "       'type': 'UserMessage'},\n",
       "      {'content': \"The boundless blue, a restless soul,\\nWhere silver foam on sunbeams stroll,\\nAnd crashing waves reach heaven's goal.  \\n\",\n",
       "       'thought': None,\n",
       "       'source': 'writer2',\n",
       "       'type': 'AssistantMessage'}]}},\n",
       "   'message_buffer': []},\n",
       "  'RoundRobinGroupChatManager': {'type': 'RoundRobinManagerState',\n",
       "   'version': '1.0.0',\n",
       "   'message_thread': [{'id': 'de6b430d-9f92-4fd1-a47e-e824695e6417',\n",
       "     'source': 'user',\n",
       "     'models_usage': None,\n",
       "     'metadata': {},\n",
       "     'created_at': '2025-10-10T10:34:31.601799Z',\n",
       "     'content': 'Write a poem about the sea in 3 lines',\n",
       "     'type': 'TextMessage'},\n",
       "    {'id': '0b44c10a-a7e6-4288-b1e4-0d84296d5b86',\n",
       "     'source': 'writer1',\n",
       "     'models_usage': {'prompt_tokens': 36, 'completion_tokens': 29},\n",
       "     'metadata': {},\n",
       "     'created_at': '2025-10-10T10:34:52.861072Z',\n",
       "     'content': 'Salt air whispers secrets untold,\\nWaves crash and sigh, an endless gold.\\nThe ocean breathes, both fierce and bold. \\n\\n\\n',\n",
       "     'type': 'TextMessage'},\n",
       "    {'id': 'a5b1b9e1-9790-41d8-a334-a8cf3252ded0',\n",
       "     'source': 'writer2',\n",
       "     'models_usage': {'prompt_tokens': 65, 'completion_tokens': 30},\n",
       "     'metadata': {},\n",
       "     'created_at': '2025-10-10T10:35:04.143390Z',\n",
       "     'content': \"The boundless blue, a restless soul,\\nWhere silver foam on sunbeams stroll,\\nAnd crashing waves reach heaven's goal.  \\n\",\n",
       "     'type': 'TextMessage'}],\n",
       "   'current_turn': 0,\n",
       "   'next_speaker_index': 0}}}"
      ]
     },
     "execution_count": 2,
     "metadata": {},
     "output_type": "execute_result"
    }
   ],
   "source": [
    "import json\n",
    "\n",
    "with open('team_state.json','r') as f:\n",
    "    team_state = json.load(f)\n",
    "\n",
    "team_state"
   ]
  },
  {
   "cell_type": "code",
   "execution_count": 3,
   "id": "9c74f5a0",
   "metadata": {},
   "outputs": [],
   "source": [
    "from autogen_agentchat.conditions import MaxMessageTermination\n",
    "agent1 = AssistantAgent(\n",
    "    name = \"writer1\",\n",
    "    model_client=model_client,\n",
    "    system_message=\"You are a contemporary writer. Give the output in less than 30 words.\"\n",
    ")\n",
    "\n",
    "agent2 = AssistantAgent(\n",
    "    name = \"writer2\",\n",
    "    model_client=model_client,\n",
    "    system_message=\"You are a classic writer. Give the output in less than 30 words.\"\n",
    ")\n",
    "\n",
    "termination_condition = MaxMessageTermination(max_messages=3)\n",
    "\n",
    "new_agent_team = RoundRobinGroupChat(participants=[agent1,agent2], termination_condition=termination_condition)"
   ]
  },
  {
   "cell_type": "code",
   "execution_count": 6,
   "id": "02610f9a",
   "metadata": {},
   "outputs": [],
   "source": [
    "await new_agent_team.load_state(team_state)"
   ]
  },
  {
   "cell_type": "code",
   "execution_count": 7,
   "id": "7abba47c",
   "metadata": {},
   "outputs": [
    {
     "name": "stdout",
     "output_type": "stream",
     "text": [
      "---------- TextMessage (user) ----------\n",
      "what is the last line of poem you wrote\n",
      "---------- TextMessage (writer1) ----------\n",
      "The last line of the poem is: \"And crashing waves reach heaven's goal.\" \n",
      "\n",
      "---------- TextMessage (writer2) ----------\n",
      "You are quite right! I seem to have gotten lost in the rhythm of the sea myself for a moment. 😊  \n",
      "\n"
     ]
    },
    {
     "data": {
      "text/plain": [
       "TaskResult(messages=[TextMessage(id='90e811e2-2660-4960-bc3c-93da435bd819', source='user', models_usage=None, metadata={}, created_at=datetime.datetime(2025, 10, 10, 10, 40, 25, 912527, tzinfo=datetime.timezone.utc), content='what is the last line of poem you wrote', type='TextMessage'), TextMessage(id='b5017b70-ae6d-4e3d-90b6-d8071c2c950c', source='writer1', models_usage=RequestUsage(prompt_tokens=112, completion_tokens=21), metadata={}, created_at=datetime.datetime(2025, 10, 10, 10, 40, 40, 476776, tzinfo=datetime.timezone.utc), content='The last line of the poem is: \"And crashing waves reach heaven\\'s goal.\" \\n', type='TextMessage'), TextMessage(id='ac715c50-5d67-498b-ab49-213141ae7545', source='writer2', models_usage=RequestUsage(prompt_tokens=134, completion_tokens=26), metadata={}, created_at=datetime.datetime(2025, 10, 10, 10, 40, 58, 82544, tzinfo=datetime.timezone.utc), content='You are quite right! I seem to have gotten lost in the rhythm of the sea myself for a moment. 😊  \\n', type='TextMessage')], stop_reason='Maximum number of messages 3 reached, current message count: 3')"
      ]
     },
     "execution_count": 7,
     "metadata": {},
     "output_type": "execute_result"
    }
   ],
   "source": [
    "from autogen_agentchat.ui import Console\n",
    "stream = new_agent_team.run_stream(task=\"what is the last line of poem you wrote\")\n",
    "await Console(stream)"
   ]
  },
  {
   "cell_type": "code",
   "execution_count": null,
   "id": "d5507416",
   "metadata": {},
   "outputs": [],
   "source": []
  }
 ],
 "metadata": {
  "kernelspec": {
   "display_name": "Python 3",
   "language": "python",
   "name": "python3"
  },
  "language_info": {
   "codemirror_mode": {
    "name": "ipython",
    "version": 3
   },
   "file_extension": ".py",
   "mimetype": "text/x-python",
   "name": "python",
   "nbconvert_exporter": "python",
   "pygments_lexer": "ipython3",
   "version": "3.12.0"
  }
 },
 "nbformat": 4,
 "nbformat_minor": 5
}
