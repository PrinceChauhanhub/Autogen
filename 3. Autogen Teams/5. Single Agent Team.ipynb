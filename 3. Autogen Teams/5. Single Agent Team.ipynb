{
 "cells": [
  {
   "cell_type": "markdown",
   "id": "0a5edfa4",
   "metadata": {},
   "source": [
    "# Single Agent Team\n",
    "\n",
    "Perfect for tasks Where one agent can handel everything but we want a team like control."
   ]
  },
  {
   "cell_type": "markdown",
   "id": "6a79c3ac",
   "metadata": {},
   "source": [
    "# Why use a single agent Team?\n",
    "\n",
    "1. Consistency - termination conditions, logging, observing.\n",
    "2. Scalability - we can add more agents as our use case expends without rewriting logic.\n",
    "3. Control - Features like observers or cancellation work seamlessly."
   ]
  },
  {
   "cell_type": "code",
   "execution_count": 3,
   "id": "9f44fe5b",
   "metadata": {},
   "outputs": [],
   "source": [
    "import asyncio\n",
    "from autogen_ext.models.openai import OpenAIChatCompletionClient\n",
    "from autogen_agentchat.agents import AssistantAgent\n",
    "from autogen_ext.models.ollama import OllamaChatCompletionClient\n",
    "from autogen_agentchat.conditions import TextMentionTermination\n",
    "from autogen_agentchat.teams import RoundRobinGroupChat\n",
    "from autogen_agentchat.messages import TextMessage\n",
    "\n",
    "model_client = OllamaChatCompletionClient(model=\"gemma2:latest\")"
   ]
  },
  {
   "cell_type": "code",
   "execution_count": 4,
   "id": "4bb29cf8",
   "metadata": {},
   "outputs": [],
   "source": [
    "poet = AssistantAgent(\n",
    "    name =\"solo_poet\",\n",
    "    model_client=model_client,\n",
    "    system_message=\"You are a poet. Write a short poem of 8 lines on moon and end with 'MOONLIGHT FADES'.\"\n",
    ")\n",
    "termination = TextMentionTermination('MOONLIGHT FADES')\n",
    "\n",
    "team = RoundRobinGroupChat(\n",
    "    participants= [poet],\n",
    "    termination_condition=termination\n",
    ")"
   ]
  },
  {
   "cell_type": "code",
   "execution_count": 5,
   "id": "4debb13e",
   "metadata": {},
   "outputs": [
    {
     "name": "stdout",
     "output_type": "stream",
     "text": [
      "user: Write a short poem on Moon\n",
      "solo_poet: A silver disc in velvet skies,\n",
      "The moon ascends, a watchful eye.\n",
      "It casts its glow on slumbering land,\n",
      "And whispers secrets, soft and grand.\n",
      "\n",
      "On silent waves, it leaves its trace,\n",
      "A shimmering path in time and space.\n",
      "The world transforms beneath its light,\n",
      "MOONLIGHT FADES. \n",
      "\n",
      "\n",
      "Let me know if you'd like another poem on a different topic! 😊  \n",
      "\n"
     ]
    }
   ],
   "source": [
    "async def test_single_agent():\n",
    "    task = TextMessage(content=\"Write a short poem on Moon\",source='user')\n",
    "    result = await team.run(task =task)\n",
    "    \n",
    "    for msg in result.messages:\n",
    "        print(f\"{msg.source}: {msg.content}\")\n",
    "        \n",
    "await test_single_agent()"
   ]
  },
  {
   "cell_type": "code",
   "execution_count": null,
   "id": "9ff2cf22",
   "metadata": {},
   "outputs": [],
   "source": []
  }
 ],
 "metadata": {
  "kernelspec": {
   "display_name": "Python 3",
   "language": "python",
   "name": "python3"
  },
  "language_info": {
   "codemirror_mode": {
    "name": "ipython",
    "version": 3
   },
   "file_extension": ".py",
   "mimetype": "text/x-python",
   "name": "python",
   "nbconvert_exporter": "python",
   "pygments_lexer": "ipython3",
   "version": "3.12.0"
  }
 },
 "nbformat": 4,
 "nbformat_minor": 5
}
