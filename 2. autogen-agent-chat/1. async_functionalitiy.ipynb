{
 "cells": [
  {
   "cell_type": "markdown",
   "id": "d019a768",
   "metadata": {},
   "source": [
    "# Async Functionality in Python"
   ]
  },
  {
   "cell_type": "markdown",
   "id": "c209a87a",
   "metadata": {},
   "source": [
    "We want to have coffee and bagel in the morining after waking up"
   ]
  },
  {
   "cell_type": "markdown",
   "id": "a7841e47",
   "metadata": {},
   "source": [
    "# Synchronous or Normal Version"
   ]
  },
  {
   "cell_type": "code",
   "execution_count": 3,
   "id": "c2a5918c",
   "metadata": {},
   "outputs": [
    {
     "name": "stdout",
     "output_type": "stream",
     "text": [
      "Brewing Coffee\n",
      "coffee ready\n",
      "Toasting bagel\n",
      "bagel ready\n",
      "None None time: 5.00673508644104: minutes\n"
     ]
    }
   ],
   "source": [
    "import time\n",
    "def brew_coffee():\n",
    "    print(\"Brewing Coffee\")\n",
    "    time.sleep(3)  ##  3 minutes\n",
    "    print(\"coffee ready\") \n",
    "\n",
    "def toast_bagel():\n",
    "    print(\"Toasting bagel\")\n",
    "    time.sleep(2) # 2 minutes\n",
    "    print(\"bagel ready\") \n",
    "\n",
    "def main():\n",
    "    start = time.time()\n",
    "    coffee = brew_coffee()\n",
    "    # time.sleep(2)\n",
    "    bagel= toast_bagel()\n",
    "    end = time.time()\n",
    "\n",
    "    print(coffee,bagel, f\"time: {end - start}: minutes\")\n",
    "\n",
    "main()"
   ]
  },
  {
   "cell_type": "markdown",
   "id": "a39bfab7",
   "metadata": {},
   "source": [
    "# Asynchronous Function"
   ]
  },
  {
   "cell_type": "code",
   "execution_count": null,
   "id": "4338197a",
   "metadata": {},
   "outputs": [
    {
     "name": "stdout",
     "output_type": "stream",
     "text": [
      "starting Brewing Coffee\n",
      "Start Toasting bagel\n",
      "bagel ready\n",
      "bagel ready\n",
      "coffee ready\n",
      "<coroutine object brew_coffee at 0x0000018517620400> <coroutine object toast_bagel at 0x00000185176204C0> time: 0.0: minutes\n",
      "coffee ready\n",
      "<coroutine object brew_coffee at 0x0000018517620400> <coroutine object toast_bagel at 0x00000185176204C0> time: 0.0: minutes\n"
     ]
    }
   ],
   "source": [
    "import asyncio\n",
    "import time\n",
    "\n",
    "async def brew_coffee():\n",
    "    print(\"starting Brewing Coffee\")\n",
    "    await asyncio.sleep(3)  ##  3 minutes\n",
    "    print(\"coffee ready\") \n",
    "\n",
    "async def toast_bagel():\n",
    "    print(\"Start Toasting bagel\")\n",
    "    await asyncio.sleep(2) # 2 minutes\n",
    "    print(\"bagel ready\") \n",
    "\n",
    "async def main():\n",
    "    start = time.time()\n",
    "    coffee = brew_coffee()\n",
    "    # time.sleep(2)\n",
    "    bagel= toast_bagel()\n",
    "    end = time.time()\n",
    "    \n",
    "    result  = await asyncio.gather(coffee, bagel)\n",
    "\n",
    "    print(coffee,bagel, f\"time: {end - start}: minutes\")\n",
    "    \n",
    "asyncio.run(main())\n"
   ]
  },
  {
   "cell_type": "code",
   "execution_count": null,
   "id": "7808a0e4",
   "metadata": {},
   "outputs": [],
   "source": []
  }
 ],
 "metadata": {
  "kernelspec": {
   "display_name": "Python 3",
   "language": "python",
   "name": "python3"
  },
  "language_info": {
   "codemirror_mode": {
    "name": "ipython",
    "version": 3
   },
   "file_extension": ".py",
   "mimetype": "text/x-python",
   "name": "python",
   "nbconvert_exporter": "python",
   "pygments_lexer": "ipython3",
   "version": "3.12.0"
  }
 },
 "nbformat": 4,
 "nbformat_minor": 5
}
