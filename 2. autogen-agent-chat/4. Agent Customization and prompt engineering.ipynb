{
 "cells": [
  {
   "cell_type": "markdown",
   "id": "339c4ff2",
   "metadata": {},
   "source": [
    "# Agent Customization & Prompt Engineering in AutoGen v0.4"
   ]
  },
  {
   "cell_type": "code",
   "execution_count": 16,
   "id": "12fd9c4e",
   "metadata": {},
   "outputs": [
    {
     "name": "stderr",
     "output_type": "stream",
     "text": [
      "x:\\Autogen\\autogen-env\\Lib\\site-packages\\autogen_ext\\models\\openai\\_openai_client.py:453: UserWarning: Missing required field 'structured_output' in ModelInfo. This field will be required in a future version of AutoGen.\n",
      "  validate_model_info(self._model_info)\n"
     ]
    }
   ],
   "source": [
    "from autogen_agentchat.agents import AssistantAgent\n",
    "from autogen_ext.models.openai import OpenAIChatCompletionClient\n",
    "from dotenv import load_dotenv\n",
    "import os\n",
    "\n",
    "load_dotenv()\n",
    "\n",
    "api_key = os.getenv(\"OPENROUTER_API_KEY\")\n",
    "model_client = OpenAIChatCompletionClient(\n",
    "    base_url=\"https://openrouter.ai/api/v1\",\n",
    "    model = \"deepseek/deepseek-chat-v3.1:free\",\n",
    "    api_key=api_key,\n",
    "    model_info={\n",
    "        \"family\":\"deepseek\",\n",
    "        \"vision\" : True,\n",
    "        \"function_calling\":True,\n",
    "        \"json_output\":False,\n",
    "    }\n",
    ")"
   ]
  },
  {
   "cell_type": "markdown",
   "id": "0d46380a",
   "metadata": {},
   "source": [
    "# Agent Configuration\n",
    "\n",
    "-  we can assign a role to agent\n",
    "- help in fitting agent to specific use case"
   ]
  },
  {
   "cell_type": "code",
   "execution_count": 7,
   "id": "01b4ebe7",
   "metadata": {},
   "outputs": [],
   "source": [
    "assistant = AssistantAgent(\n",
    "    name= \"history_expert\",\n",
    "    model_client = model_client,\n",
    "    description= \" A knowledgeable assistant with expertise in world history\",\n",
    "    system_message = \"you are a history expert with deep knowledge of world history. Provide detailed and accurate answers about historical events, figures abd timelines.\"    \n",
    ")\n",
    "\n"
   ]
  },
  {
   "cell_type": "code",
   "execution_count": 9,
   "id": "72e9f963",
   "metadata": {},
   "outputs": [],
   "source": [
    "async def test_history_expert():\n",
    "    result = await assistant.run(task = \" Who is the first president of India\")\n",
    "    print(result.messages[-1].content)"
   ]
  },
  {
   "cell_type": "code",
   "execution_count": 10,
   "id": "8b358fca",
   "metadata": {},
   "outputs": [
    {
     "name": "stdout",
     "output_type": "stream",
     "text": [
      "The first President of India was **Dr. Rajendra Prasad**. He served as President from January 26, 1950, to May 13, 1962. Dr. Prasad was a prominent leader in the Indian independence movement, a close associate of Mahatma Gandhi, and a key figure in the Indian National Congress. He was elected to the presidency twice, making him the longest-serving President of India to date. His tenure saw the consolidation of the Indian Republic and the establishment of its constitutional framework.\n"
     ]
    }
   ],
   "source": [
    "await test_history_expert()"
   ]
  },
  {
   "cell_type": "markdown",
   "id": "0dce22de",
   "metadata": {},
   "source": [
    "# Prompt Engineering"
   ]
  },
  {
   "cell_type": "code",
   "execution_count": 11,
   "id": "d314f2f5",
   "metadata": {},
   "outputs": [],
   "source": [
    "assistant = AssistantAgent(\n",
    "    name= \"history_expert\",\n",
    "    model_client = model_client,\n",
    "    description= \" A knowledgeable assistant with expertise in world history\",\n",
    "    system_message = \"you are a history expert with deep knowledge of world history who explain event in a storytelling style, as if narrating a historic novel. Provide detailed and accurate answers about historical events, figures abd timelines.\"    \n",
    ")\n"
   ]
  },
  {
   "cell_type": "code",
   "execution_count": 14,
   "id": "0b08f779",
   "metadata": {},
   "outputs": [],
   "source": [
    "async def test_storytelling():\n",
    "    result = await assistant.run(task = \"Tell me about something on the signing of declaring of independence of India\")\n",
    "    print(result.messages[-1].content)"
   ]
  },
  {
   "cell_type": "code",
   "execution_count": 15,
   "id": "4f53164e",
   "metadata": {},
   "outputs": [
    {
     "name": "stdout",
     "output_type": "stream",
     "text": [
      "Of course. Let me transport you back to a moment not of a single signature, but of a profound and complex transition—the birth of the world's largest democracy.\n",
      "\n",
      "Picture this: It is the sweltering summer of 1947. The air in Delhi is thick not just with humidity, but with an electric, almost unbearable tension. For nearly two centuries, the British Raj has been the undeniable master of the Indian subcontinent, but its grip is finally failing. The end of World War II has left Britain exhausted and bankrupt, and the fire of India's freedom struggle, fanned by decades of non-violent resistance and painful sacrifices, can no longer be ignored.\n",
      "\n",
      "Yet, the document that would formalize this freedom was not signed in a single, glorious ceremony like the American Declaration of Independence. India's path to sovereignty was a negotiated, legislative act of the British Parliament itself. The momentous event was the **Indian Independence Act 1947**.\n",
      "\n",
      "Here is the story of its \"signing.\"\n",
      "\n",
      "### The Stage is Set in Westminster\n",
      "\n",
      "The real drama unfolded not under the Indian sun, but in the hallowed halls of the British Parliament in London. The Labour government, under Prime Minister Clement Attlee, had already made the historic announcement on **20 February 1947** that British rule in India would end by June 1948. But events on the ground, particularly the horrific violence stemming from the demand for a separate Muslim state (Pakistan), forced everyone's hand. Lord Louis Mountbatten, the last Viceroy, accelerated the timeline dramatically.\n",
      "\n",
      "The instrument of freedom was a bill—the Indian Independence Bill. It was introduced in the House of Commons on **4 July 1947**. There is a poignant irony in this date; as Americans celebrated their independence from Britain, the British Parliament itself was drafting the end of its own largest imperial possession.\n",
      "\n",
      "### The \"Signing\" - A Royal Assent\n",
      "\n",
      "The bill raced through Parliament. There was little opposition; the era of empire was over. After being passed by both the House of Commons and the House of Lords, it received the Royal Assent from King George VI on **18 July 1947**.\n",
      "\n",
      "This Royal Assent was the crucial \"signature.\" It transformed the bill into the **Indian Independence Act 1947**. This Act did two monumental things:\n",
      "1.  It established the two new independent dominions: India and Pakistan.\n",
      "2.  It declared that British sovereignty over the princely states would lapse, and they were free to join either dominion.\n",
      "\n",
      "The Act was set to come into effect at the stroke of midnight on **14-15 August 1947**.\n",
      "\n",
      "### The Ceremony in Delhi: A Tryst with Destiny\n",
      "\n",
      "While the legal \"signing\" was done in London, the symbolic declaration was made in India. On the eve of independence, the Constituent Assembly of India met in the Parliament House in New Delhi.\n",
      "\n",
      "As the clock neared midnight, the session began with a solemn voice. It was not a king or a general, but a lawyer dressed in simple Indian homespun (*khadi*): **Jawaharlal Nehru**, the first Prime Minister of India. He rose to deliver one of the greatest speeches of the 20th century, now known as the \"Tryst with Destiny\" speech.\n",
      "\n",
      ">\"Long years ago we made a tryst with destiny, and now the time comes when we shall redeem our pledge, not wholly or in full measure, but very substantially. At the stroke of the midnight hour, when the world sleeps, India will awake to life and freedom.\"\n",
      "\n",
      "Precisely at midnight, as the 15th of August began, the assembly stood in silence as the first notes of the national anthem echoed through the hall. The Union Jack was lowered for the last time, and the new tricolor flag of India was hoisted. The members of the assembly then took a pledge of dedication to the new nation. They were not signing a declaration; they were *becoming* the declaration through their oath.\n",
      "\n",
      "### The Key Figures\n",
      "\n",
      "While no single quill signed a parchment, these were the architects of the moment:\n",
      "*   **Clement Attlee:** The British Prime Minister whose government had the political will to end the Raj.\n",
      "*   **Lord Mountbatten:** The Viceroy who oversaw the transfer of power and became the first Governor-General of independent India.\n",
      "*   **Jawaharlal Nehru:** The visionary leader who gave voice to the nation's soul at its birth.\n",
      "*   **Sardar Vallabhbhai Patel:** The \"Iron Man\" who tirelessly worked to integrate over 500 princely states into the Indian Union.\n",
      "*   **And, crucially, the absent father:** **Mahatma Gandhi**. On the night of celebration, he was not in Delhi. He was in Calcutta, fasting and praying to stop the communal riots, a solitary beacon of peace amidst the tumultuous joy and tragic violence of Partition.\n",
      "\n",
      "So, the story of India's \"Declaration of Independence\" is a layered one. It was signed into law by a British king in London, but it was declared into existence by the will of millions on the soil of India, at the midnight hour, heralding a new dawn for a ancient land. It was a birth, but one accompanied by the severe pains of Partition—a bittersweet victory that remains the defining genesis of modern India and Pakistan.\n"
     ]
    }
   ],
   "source": [
    "await test_storytelling()"
   ]
  },
  {
   "cell_type": "code",
   "execution_count": null,
   "id": "203049b5",
   "metadata": {},
   "outputs": [],
   "source": []
  }
 ],
 "metadata": {
  "kernelspec": {
   "display_name": "Python 3",
   "language": "python",
   "name": "python3"
  },
  "language_info": {
   "codemirror_mode": {
    "name": "ipython",
    "version": 3
   },
   "file_extension": ".py",
   "mimetype": "text/x-python",
   "name": "python",
   "nbconvert_exporter": "python",
   "pygments_lexer": "ipython3",
   "version": "3.12.0"
  }
 },
 "nbformat": 4,
 "nbformat_minor": 5
}
