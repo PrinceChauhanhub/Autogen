{
 "cells": [
  {
   "cell_type": "markdown",
   "id": "05b22480",
   "metadata": {},
   "source": [
    "# Running and Observing Agents"
   ]
  },
  {
   "cell_type": "code",
   "execution_count": 7,
   "id": "a29ce47d",
   "metadata": {},
   "outputs": [
    {
     "name": "stderr",
     "output_type": "stream",
     "text": [
      "x:\\Autogen\\autogen-env\\Lib\\site-packages\\autogen_ext\\models\\openai\\_openai_client.py:453: UserWarning: Missing required field 'structured_output' in ModelInfo. This field will be required in a future version of AutoGen.\n",
      "  validate_model_info(self._model_info)\n"
     ]
    }
   ],
   "source": [
    "from autogen_agentchat.agents import AssistantAgent\n",
    "from autogen_ext.models.openai import OpenAIChatCompletionClient\n",
    "from autogen_agentchat.messages import TextMessage\n",
    "\n",
    "from dotenv import load_dotenv\n",
    "import os\n",
    "\n",
    "load_dotenv\n",
    "api_key = os.getenv(\"OPENROUTER_API_KEY\")\n",
    "if not api_key:\n",
    "    raise ValueError(\"API key is not set.\")\n",
    "\n",
    "model_client = OpenAIChatCompletionClient(\n",
    "    base_url=\"https://openrouter.ai/api/v1\",\n",
    "    model = \"google/gemini-2.0-flash-exp:free\",\n",
    "    api_key=api_key,\n",
    "    model_info={\n",
    "        \"family\":\"google\",\n",
    "        \"vision\" : True,\n",
    "        \"function_calling\":True,\n",
    "        \"json_output\":False,\n",
    "    }\n",
    ")"
   ]
  },
  {
   "cell_type": "code",
   "execution_count": 8,
   "id": "f413b33e",
   "metadata": {},
   "outputs": [],
   "source": [
    "async def web_search(query: str) -> str:\n",
    "    \"\"\"Find information on the web\"\"\"\n",
    "    return \"The Labrador Retriever or simply Labrador is a British breed of retriever gun dog.\""
   ]
  },
  {
   "cell_type": "code",
   "execution_count": 9,
   "id": "8a87e707",
   "metadata": {},
   "outputs": [],
   "source": [
    "agent = AssistantAgent(\n",
    "    name = \"assistant\",\n",
    "    model_client=model_client,\n",
    "    tools = [web_search],\n",
    "    system_message=\"Use tools to solve tasks\"\n",
    ")"
   ]
  },
  {
   "cell_type": "code",
   "execution_count": 10,
   "id": "2c14edbd",
   "metadata": {},
   "outputs": [
    {
     "name": "stdout",
     "output_type": "stream",
     "text": [
      "The Labrador Retriever or simply Labrador is a British breed of retriever gun dog.\n"
     ]
    }
   ],
   "source": [
    "result = await agent.run(task = \"find the information about Labrador Retrieve\")\n",
    "print(result.messages[-1].content)"
   ]
  },
  {
   "cell_type": "markdown",
   "id": "53d30a77",
   "metadata": {},
   "source": [
    "# on_message() method\n",
    "\n",
    "it is used to see inside a agent.what happening inside the agent."
   ]
  },
  {
   "cell_type": "markdown",
   "id": "0057f110",
   "metadata": {},
   "source": [
    "cancellation token - iska mtkb hai ki hm bol rhe hai Stop whatever you are doing — user ne cancel kar diya hai!. function ko forcibly nahi rok rahe, balki usse politely keh rahe.\n",
    "\n",
    "inner_message - it is produced by agent , they can be AgentEvenet, ye agent ki internal steps ko dikhata hai\n",
    "\n",
    "chat__message - ye agent ke final message ko dikhata hai"
   ]
  },
  {
   "cell_type": "code",
   "execution_count": 17,
   "id": "f905aeea",
   "metadata": {},
   "outputs": [],
   "source": [
    "from autogen_core import CancellationToken\n",
    "\n",
    "async def assistant_run() -> None:\n",
    "    response = await agent.on_messages(\n",
    "        messages=[TextMessage(content = 'find the information about Labrador Retrieve', source='User')],\n",
    "        cancellation_token=CancellationToken()\n",
    "    )\n",
    "    print(response.inner_messages)\n",
    "    print('\\n\\n\\n\\n')\n",
    "    print(response.chat_message)"
   ]
  },
  {
   "cell_type": "code",
   "execution_count": 19,
   "id": "cfb17b65",
   "metadata": {},
   "outputs": [
    {
     "name": "stdout",
     "output_type": "stream",
     "text": [
      "[ToolCallRequestEvent(id='f81af4f4-ef89-4a01-841f-df938ebfce7e', source='assistant', models_usage=RequestUsage(prompt_tokens=82, completion_tokens=7), metadata={}, created_at=datetime.datetime(2025, 10, 5, 14, 20, 51, 892318, tzinfo=datetime.timezone.utc), content=[FunctionCall(id='tool_0_web_search_acDRSUKd8vEYqahzTlAm', arguments='{\"query\":\"Labrador Retriever\"}', name='web_search')], type='ToolCallRequestEvent'), ToolCallExecutionEvent(id='5f4bbcfe-9c7c-4626-a236-2f0016771ba6', source='assistant', models_usage=None, metadata={}, created_at=datetime.datetime(2025, 10, 5, 14, 20, 51, 892318, tzinfo=datetime.timezone.utc), content=[FunctionExecutionResult(content='The Labrador Retriever or simply Labrador is a British breed of retriever gun dog.', name='web_search', call_id='tool_0_web_search_acDRSUKd8vEYqahzTlAm', is_error=False)], type='ToolCallExecutionEvent')]\n",
      "\n",
      "\n",
      "\n",
      "\n",
      "\n",
      "id='8d05a15b-f96b-4845-a6d7-556432009ecb' source='assistant' models_usage=None metadata={} created_at=datetime.datetime(2025, 10, 5, 14, 20, 51, 892318, tzinfo=datetime.timezone.utc) content='The Labrador Retriever or simply Labrador is a British breed of retriever gun dog.' type='ToolCallSummaryMessage' tool_calls=[FunctionCall(id='tool_0_web_search_acDRSUKd8vEYqahzTlAm', arguments='{\"query\":\"Labrador Retriever\"}', name='web_search')] results=[FunctionExecutionResult(content='The Labrador Retriever or simply Labrador is a British breed of retriever gun dog.', name='web_search', call_id='tool_0_web_search_acDRSUKd8vEYqahzTlAm', is_error=False)]\n"
     ]
    }
   ],
   "source": [
    "await assistant_run()"
   ]
  },
  {
   "cell_type": "markdown",
   "id": "e5d62f55",
   "metadata": {},
   "source": [
    "# Streaming Messages\n",
    "\n",
    "using on_messages_stream() - ye on_stream se better understnad krta hai ki agent kis cheez se hoke jaa rha h"
   ]
  },
  {
   "cell_type": "code",
   "execution_count": 20,
   "id": "0e189dc0",
   "metadata": {},
   "outputs": [
    {
     "name": "stdout",
     "output_type": "stream",
     "text": [
      "---------- ToolCallRequestEvent (assistant) ----------\n",
      "[FunctionCall(id='tool_0_web_search_CrmmQemzQVa8WosCuvEE', arguments='{\"query\":\"Labrador Retriever\"}', name='web_search')]\n",
      "[Prompt tokens: 131, Completion tokens: 7]\n",
      "---------- ToolCallExecutionEvent (assistant) ----------\n",
      "[FunctionExecutionResult(content='The Labrador Retriever or simply Labrador is a British breed of retriever gun dog.', name='web_search', call_id='tool_0_web_search_CrmmQemzQVa8WosCuvEE', is_error=False)]\n",
      "---------- assistant ----------\n",
      "The Labrador Retriever or simply Labrador is a British breed of retriever gun dog.\n",
      "---------- Summary ----------\n",
      "Number of inner messages: 2\n",
      "Total prompt tokens: 131\n",
      "Total completion tokens: 7\n",
      "Duration: 7.04 seconds\n"
     ]
    }
   ],
   "source": [
    "from autogen_agentchat.ui import Console  # for formatting/priniting agent messages\n",
    "\n",
    "async def assistant_run_stream() -> None:\n",
    "    await Console(\n",
    "        agent.on_messages_stream(\n",
    "            messages=[TextMessage(content = 'find the information about Labrador Retrieve', source='User')],\n",
    "            cancellation_token=CancellationToken()\n",
    "        ),\n",
    "        output_stats=True  # Enable stats printing\n",
    "    ) \n",
    "    \n",
    "await assistant_run_stream()\n"
   ]
  },
  {
   "cell_type": "code",
   "execution_count": null,
   "id": "6cdbc81c",
   "metadata": {},
   "outputs": [],
   "source": []
  }
 ],
 "metadata": {
  "kernelspec": {
   "display_name": "Python 3",
   "language": "python",
   "name": "python3"
  },
  "language_info": {
   "codemirror_mode": {
    "name": "ipython",
    "version": 3
   },
   "file_extension": ".py",
   "mimetype": "text/x-python",
   "name": "python",
   "nbconvert_exporter": "python",
   "pygments_lexer": "ipython3",
   "version": "3.12.0"
  }
 },
 "nbformat": 4,
 "nbformat_minor": 5
}
