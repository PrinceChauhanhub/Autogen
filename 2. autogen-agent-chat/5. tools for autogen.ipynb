{
 "cells": [
  {
   "cell_type": "markdown",
   "id": "1bb10665",
   "metadata": {},
   "source": [
    "# Using tools with autogen Agent\n",
    "\n",
    "giving our assistnat a toolbox to solve a problem."
   ]
  },
  {
   "cell_type": "code",
   "execution_count": 1,
   "id": "e90b2996",
   "metadata": {},
   "outputs": [
    {
     "name": "stderr",
     "output_type": "stream",
     "text": [
      "x:\\Autogen\\autogen-env\\Lib\\site-packages\\autogen_ext\\models\\openai\\_openai_client.py:453: UserWarning: Missing required field 'structured_output' in ModelInfo. This field will be required in a future version of AutoGen.\n",
      "  validate_model_info(self._model_info)\n"
     ]
    }
   ],
   "source": [
    "from autogen_agentchat.agents import AssistantAgent\n",
    "from autogen_ext.models.openai import OpenAIChatCompletionClient\n",
    "from dotenv import load_dotenv\n",
    "import os\n",
    "\n",
    "load_dotenv()\n",
    "api_key = os.getenv(\"OPENROUTER_API_KEY\")\n",
    "model_client = OpenAIChatCompletionClient(\n",
    "    base_url=\"https://openrouter.ai/api/v1\",\n",
    "    model = \"deepseek/deepseek-chat-v3.1:free\",\n",
    "    api_key=api_key,\n",
    "    model_info={\n",
    "        \"family\":\"deepseek\",\n",
    "        \"vision\" : True,\n",
    "        \"function_calling\":True,\n",
    "        \"json_output\":False,\n",
    "    }\n",
    ")"
   ]
  },
  {
   "cell_type": "markdown",
   "id": "27e6077e",
   "metadata": {},
   "source": [
    "# Tools\n",
    "\n",
    "'What's the weather in Uttar Pradesh'.\n",
    "\n",
    "special functions that let the agents do things like fetch data, calculate numbers or even call external services.\n",
    "\n",
    "without tools, agent can only chat. With tools, they can act."
   ]
  },
  {
   "cell_type": "code",
   "execution_count": 19,
   "id": "844a80c0",
   "metadata": {},
   "outputs": [],
   "source": [
    "def get_weather(city: str) -> str:\n",
    "    \"\"\"\n",
    "    Fetches the weather for a given city.\n",
    "    This is a placeholder function and should be replaced with actual weather fetching logic.\n",
    "    For example, you could use a weather API to get real-time data.\n",
    "    param city: Name of the city to fetch weather for.\n",
    "    return: Weather information as a string.\n",
    "    \"\"\"\n",
    "    # Placeholder function to simulate weather fetching\n",
    "    return f\"The weather in {city} is sunny with a high of 35 degree Celcius.\""
   ]
  },
  {
   "cell_type": "code",
   "execution_count": 20,
   "id": "8e9c5f30",
   "metadata": {},
   "outputs": [],
   "source": [
    "assistant = AssistantAgent(\n",
    "    name = \"weather_assistant\",\n",
    "    model_client = model_client,\n",
    "    system_message=\"You are a weather assistant, Use the get_weather tool when ask about the weather in the city\",\n",
    "    tools = [get_weather]\n",
    ")"
   ]
  },
  {
   "cell_type": "code",
   "execution_count": 21,
   "id": "1f5a1ada",
   "metadata": {},
   "outputs": [],
   "source": [
    "async def test_weather_tool():\n",
    "    result = await assistant.run(task = \"what is the weather in Kanpur ?\")\n",
    "    print(result.messages[-1].content)"
   ]
  },
  {
   "cell_type": "code",
   "execution_count": 22,
   "id": "e094606b",
   "metadata": {},
   "outputs": [
    {
     "name": "stdout",
     "output_type": "stream",
     "text": [
      "The weather in Kanpur is sunny with a high of 35 degree Celcius.\n"
     ]
    }
   ],
   "source": [
    "await test_weather_tool()"
   ]
  },
  {
   "cell_type": "code",
   "execution_count": null,
   "id": "bf4de281",
   "metadata": {},
   "outputs": [],
   "source": []
  }
 ],
 "metadata": {
  "kernelspec": {
   "display_name": "Python 3",
   "language": "python",
   "name": "python3"
  },
  "language_info": {
   "codemirror_mode": {
    "name": "ipython",
    "version": 3
   },
   "file_extension": ".py",
   "mimetype": "text/x-python",
   "name": "python",
   "nbconvert_exporter": "python",
   "pygments_lexer": "ipython3",
   "version": "3.12.0"
  }
 },
 "nbformat": 4,
 "nbformat_minor": 5
}
