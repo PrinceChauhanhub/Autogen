{
 "cells": [
  {
   "cell_type": "markdown",
   "id": "7256508c",
   "metadata": {},
   "source": [
    "# Intro to agentchat api with First  AssistantAgent"
   ]
  },
  {
   "cell_type": "code",
   "execution_count": 4,
   "id": "cc2b2c2a",
   "metadata": {},
   "outputs": [],
   "source": [
    "from autogen_agentchat.agents import AssistantAgent\n",
    "from autogen_ext.models.ollama import OllamaChatCompletionClient\n",
    "from dotenv import load_dotenv\n",
    "import os\n",
    "\n",
    "load_dotenv()\n",
    "\n",
    "client = OllamaChatCompletionClient(model=\"gemma2:latest\")"
   ]
  },
  {
   "cell_type": "markdown",
   "id": "aad64790",
   "metadata": {},
   "source": [
    "# Creating our first Assistant\n",
    "\n",
    "The AssistantAgent is a versatile agent for conversations, powered by AgentChat"
   ]
  },
  {
   "cell_type": "code",
   "execution_count": 6,
   "id": "18949e8a",
   "metadata": {},
   "outputs": [],
   "source": [
    "assistant = AssistantAgent(\n",
    "    name = \"assistant\",\n",
    "    model_client=client\n",
    ")"
   ]
  },
  {
   "cell_type": "markdown",
   "id": "d881922f",
   "metadata": {},
   "source": [
    "# Testing the AssistantAgent\n",
    "we will use the run method to send a task and get a response."
   ]
  },
  {
   "cell_type": "code",
   "execution_count": 12,
   "id": "8e165341",
   "metadata": {},
   "outputs": [
    {
     "name": "stdout",
     "output_type": "stream",
     "text": [
      "messages=[TextMessage(id='13b57d67-b76f-4fb4-8528-3865c311898c', source='user', models_usage=None, metadata={}, created_at=datetime.datetime(2025, 10, 4, 11, 8, 41, 664249, tzinfo=datetime.timezone.utc), content=\"What's the capital of uttar pradesh ?\", type='TextMessage'), TextMessage(id='b7f36aac-06ed-419f-a490-01423d3745c4', source='assistant', models_usage=RequestUsage(prompt_tokens=69, completion_tokens=8), metadata={}, created_at=datetime.datetime(2025, 10, 4, 11, 8, 56, 838877, tzinfo=datetime.timezone.utc), content='Lucknow\\n\\nTERMINATE \\n', type='TextMessage')] stop_reason=None\n"
     ]
    }
   ],
   "source": [
    "result = await assistant.run(task = \"What's the capital of uttar pradesh ?\")\n",
    "print(result)"
   ]
  },
  {
   "cell_type": "code",
   "execution_count": 13,
   "id": "3bd82a92",
   "metadata": {},
   "outputs": [
    {
     "data": {
      "text/plain": [
       "'Lucknow\\n\\nTERMINATE \\n'"
      ]
     },
     "execution_count": 13,
     "metadata": {},
     "output_type": "execute_result"
    }
   ],
   "source": [
    "result.messages[-1].content"
   ]
  },
  {
   "cell_type": "code",
   "execution_count": null,
   "id": "4195f7db",
   "metadata": {},
   "outputs": [],
   "source": []
  }
 ],
 "metadata": {
  "kernelspec": {
   "display_name": "Python 3",
   "language": "python",
   "name": "python3"
  },
  "language_info": {
   "codemirror_mode": {
    "name": "ipython",
    "version": 3
   },
   "file_extension": ".py",
   "mimetype": "text/x-python",
   "name": "python",
   "nbconvert_exporter": "python",
   "pygments_lexer": "ipython3",
   "version": "3.12.0"
  }
 },
 "nbformat": 4,
 "nbformat_minor": 5
}
