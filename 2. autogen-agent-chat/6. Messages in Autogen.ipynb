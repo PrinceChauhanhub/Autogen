{
 "cells": [
  {
   "cell_type": "markdown",
   "id": "f0e92fc3",
   "metadata": {},
   "source": [
    "# Messages in Autogen\n",
    "\n",
    "messages - how agent talks to each other or to us as well."
   ]
  },
  {
   "cell_type": "markdown",
   "id": "6c82fa44",
   "metadata": {},
   "source": []
  }
 ],
 "metadata": {
  "language_info": {
   "name": "python"
  }
 },
 "nbformat": 4,
 "nbformat_minor": 5
}
