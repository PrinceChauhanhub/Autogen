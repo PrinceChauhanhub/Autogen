{
 "cells": [
  {
   "cell_type": "markdown",
   "id": "f0e92fc3",
   "metadata": {},
   "source": [
    "# Messages in Autogen\n",
    "\n",
    "messages - how agent talks to each other or to us as well. means the way agent communicates.\n",
    "\n",
    "\n",
    "wehen we communicate with the agent ---> sending a message\n",
    "when it respons ---> it too sends a message\n",
    "\n",
    "Types of messages -:\n",
    "\n",
    "1- TextMessage : \n",
    "2- ImageMessage: \n",
    "3- ToolMessage"
   ]
  },
  {
   "cell_type": "code",
   "execution_count": 9,
   "id": "bc9655ce",
   "metadata": {},
   "outputs": [],
   "source": [
    "import asyncio\n",
    "from autogen_agentchat.agents import AssistantAgent\n",
    "from autogen_ext.models.openai import OpenAIChatCompletionClient\n",
    "from autogen_agentchat.messages import TextMessage, MultiModalMessage\n",
    "from autogen_core import Image as AGImage\n",
    "\n",
    "from PIL import Image\n",
    "\n",
    "from io import BytesIO\n",
    "import requests\n",
    "from dotenv import load_dotenv\n",
    "import os\n",
    "\n",
    "load_dotenv()\n",
    "api_key = os.getenv(\"OPENROUTER_API_KEY\")\n",
    "if not api_key:\n",
    "    raise ValueError(\"API key is not set.\")\n",
    "\n",
    "model_client = OpenAIChatCompletionClient(\n",
    "    base_url=\"https://openrouter.ai/api/v1\",\n",
    "    model = \"google/gemini-2.0-flash-exp:free\",\n",
    "    api_key=api_key,\n",
    "    model_info={\n",
    "        \"family\":\"google\",\n",
    "        \"vision\" : True,\n",
    "        \"function_calling\":True,\n",
    "        \"json_output\":False,\n",
    "    }\n",
    ")"
   ]
  },
  {
   "cell_type": "code",
   "execution_count": 10,
   "id": "9cd42d70",
   "metadata": {},
   "outputs": [],
   "source": [
    "## Simplese Type of message - TextMessage\n",
    "\n",
    "agent = AssistantAgent(\n",
    "    name = \"text_agent\",\n",
    "    model_client=model_client,\n",
    "    system_message=\"You are a helpful assistant, answer questions accurately\"\n",
    ")"
   ]
  },
  {
   "cell_type": "code",
   "execution_count": 11,
   "id": "b1d2336c",
   "metadata": {},
   "outputs": [],
   "source": [
    "async def test_text_messages():\n",
    "    txt_msg = TextMessage(content=\"what is the capital of India?\", source='user')\n",
    "    result = await agent.run(task = txt_msg)\n",
    "    print(result.messages[-1].content)\n"
   ]
  },
  {
   "cell_type": "code",
   "execution_count": 12,
   "id": "1898a146",
   "metadata": {},
   "outputs": [
    {
     "name": "stdout",
     "output_type": "stream",
     "text": [
      "The capital of India is New Delhi.\n",
      "\n"
     ]
    }
   ],
   "source": [
    "await test_text_messages()"
   ]
  },
  {
   "cell_type": "markdown",
   "id": "d9df048c",
   "metadata": {},
   "source": [
    "# Multimodal Messages"
   ]
  },
  {
   "cell_type": "code",
   "execution_count": null,
   "id": "5e8c2c7a",
   "metadata": {},
   "outputs": [],
   "source": [
    "async def test_mulit_modal():\n",
    "    response = requests.get(\"https://picsum.photos/id/237/200/300\")\n",
    "    pil_image = Image.open(BytesIO(response.content))  # response.content mein binary data hoga aur vo data bytesIo ek file like obeject mein bnayega jo PIL read kr ske and then image.open se python image object mein convert hoga image.\n",
    "    \n",
    "    ag_image = AGImage(pil_image)  # converting image into autogen format\n",
    "    \n",
    "    multi_modal_message = MultiModalMessage(\n",
    "        content=['WHat is the breed of the dog?',ag_image],\n",
    "        source='user'\n",
    "    )\n",
    "    \n",
    "    result = await agent.run(task = multi_modal_message)\n",
    "    print(result.messages[-1].content)\n",
    "    \n"
   ]
  },
  {
   "cell_type": "code",
   "execution_count": 14,
   "id": "b8dbf5cc",
   "metadata": {},
   "outputs": [
    {
     "name": "stdout",
     "output_type": "stream",
     "text": [
      "Based on the image, the dog appears to be a **Black Labrador Retriever**.\n",
      "\n"
     ]
    }
   ],
   "source": [
    "await test_mulit_modal()\n"
   ]
  },
  {
   "cell_type": "code",
   "execution_count": null,
   "id": "be735fab",
   "metadata": {},
   "outputs": [],
   "source": []
  }
 ],
 "metadata": {
  "kernelspec": {
   "display_name": "Python 3",
   "language": "python",
   "name": "python3"
  },
  "language_info": {
   "codemirror_mode": {
    "name": "ipython",
    "version": 3
   },
   "file_extension": ".py",
   "mimetype": "text/x-python",
   "name": "python",
   "nbconvert_exporter": "python",
   "pygments_lexer": "ipython3",
   "version": "3.12.0"
  }
 },
 "nbformat": 4,
 "nbformat_minor": 5
}
